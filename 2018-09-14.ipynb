{
 "cells": [
  {
   "cell_type": "markdown",
   "metadata": {},
   "source": [
    "# Enchaînements d'instruction\n",
    "\n",
    "* séquence\n",
    "* condition (`if` et éventuellement `else`)\n",
    "* répétition (`while`)\n",
    "\n"
   ]
  },
  {
   "cell_type": "markdown",
   "metadata": {},
   "source": [
    "# Trace d'exécution\n",
    "\n",
    "* on numérote les lignes du programme\n",
    "* on *marque* la première ligne, la dernière ligne,\n",
    "  et toutes les lignes qui contiennent un `while`\n",
    "* on exécute le programme,\n",
    "  et **avant** d'exécuter chaque ligne *marquée*,\n",
    "  on écrit dans la trace le numéro de ligne\n",
    "  et la valeur de chaque variable.\n",
    "  \n",
    "## Exemple"
   ]
  },
  {
   "cell_type": "code",
   "execution_count": 1,
   "metadata": {},
   "outputs": [
    {
     "name": "stdout",
     "output_type": "stream",
     "text": [
      "x\n",
      "4\n",
      "xxxx\n"
     ]
    }
   ],
   "source": [
    "c = str(input())\n",
    "n = int(input())\n",
    "r = \"\"\n",
    "i = 0\n",
    "while i < n:\n",
    "    r = r+c\n",
    "    i = i+1\n",
    "print(r)"
   ]
  },
  {
   "cell_type": "markdown",
   "metadata": {},
   "source": [
    "Si l'utilisateur saisit \"x\" et \"4\", la trace est la suivante :\n",
    "\n",
    "| no ligne | c | n | r | i |\n",
    "|----------|---|---|---|---|\n",
    "| 1        | ? | ? | ? | ? |\n",
    "| 5        | \"x\" | 4 | \"\" | 0 |\n",
    "| 5        | \"x\" | 4 | \"x\" | 1 |\n",
    "| 5        | \"x\" | 4 | \"xx\" | 2 |\n",
    "| 5        | \"x\" | 4 | \"xxx\" | 3 |\n",
    "| 5        | \"x\" | 4 | \"xxxx\" | 4 |\n",
    "| 8        | \"x\" | 4 | \"xxxx\" | 4 |"
   ]
  }
 ],
 "metadata": {
  "kernelspec": {
   "display_name": "Python 3",
   "language": "python",
   "name": "python3"
  },
  "language_info": {
   "codemirror_mode": {
    "name": "ipython",
    "version": 3
   },
   "file_extension": ".py",
   "mimetype": "text/x-python",
   "name": "python",
   "nbconvert_exporter": "python",
   "pygments_lexer": "ipython3",
   "version": "3.6.5"
  }
 },
 "nbformat": 4,
 "nbformat_minor": 2
}
