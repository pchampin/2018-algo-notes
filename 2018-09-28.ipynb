{
 "cells": [
  {
   "cell_type": "markdown",
   "metadata": {},
   "source": [
    "# Notion de contrat / spécification\n",
    "\n",
    "Sert de mode d'emploi (pour les utilisateurs de l'algo)\n",
    "et de cahier des charges (pour l'auteur de l'algo)"
   ]
  },
  {
   "cell_type": "code",
   "execution_count": 1,
   "metadata": {},
   "outputs": [
    {
     "name": "stdout",
     "output_type": "stream",
     "text": [
      "105\n",
      "42\n",
      "21\n"
     ]
    }
   ],
   "source": [
    "\"\"\"\n",
    ":entrée a: int\n",
    ":entrée b: int\n",
    ":pré-cond: a ≥ b > 0\n",
    "\n",
    ":sortie pgcd: int\n",
    ":post-cond:\n",
    "  pgcd est le plus grand diviseur commun à a et b\n",
    "  pgcd est le plus grand nombre donc a et b sont des multiples\n",
    "\"\"\"\n",
    "\n",
    "a = int(input())\n",
    "b = int(input())\n",
    "\n",
    "while b > 0:\n",
    "    c = a%b\n",
    "    a = b\n",
    "    b = c\n",
    "pgcd = a\n",
    "\n",
    "print(pgcd)"
   ]
  },
  {
   "cell_type": "code",
   "execution_count": 2,
   "metadata": {},
   "outputs": [
    {
     "name": "stdout",
     "output_type": "stream",
     "text": [
      "1\n",
      "0\n",
      "-2\n",
      "2\n"
     ]
    }
   ],
   "source": [
    "\"\"\"\n",
    ":entrée a: float\n",
    ":entrée b: float\n",
    ":entrée c: float\n",
    ":pré-cond: a ≠ 0\n",
    "\n",
    ":sortie r: int\n",
    ":post-cond:\n",
    "  r est le nombre de solutions de l'équation\n",
    "  ax² + bx + c = 0\n",
    "\"\"\"\n",
    "a = float(input())\n",
    "b = float(input())\n",
    "c = float(input())\n",
    "\n",
    "Δ = b*b - 4*a*c\n",
    "if Δ < 0:\n",
    "    r = 0\n",
    "else:\n",
    "    if Δ == 0:\n",
    "        r = 1\n",
    "    else:\n",
    "        r = 2\n",
    "\n",
    "print(r)"
   ]
  }
 ],
 "metadata": {
  "kernelspec": {
   "display_name": "Python 3",
   "language": "python",
   "name": "python3"
  },
  "language_info": {
   "codemirror_mode": {
    "name": "ipython",
    "version": 3
   },
   "file_extension": ".py",
   "mimetype": "text/x-python",
   "name": "python",
   "nbconvert_exporter": "python",
   "pygments_lexer": "ipython3",
   "version": "3.6.6"
  }
 },
 "nbformat": 4,
 "nbformat_minor": 2
}
