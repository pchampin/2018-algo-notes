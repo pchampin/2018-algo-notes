{
 "cells": [
  {
   "cell_type": "code",
   "execution_count": 1,
   "metadata": {},
   "outputs": [],
   "source": [
    "def compte_val(val, a):  # écriture récursive\n",
    "    \"\"\"\n",
    "    :entrée val: float\n",
    "    :entrée a: tableau de float\n",
    "    :sortie n: int\n",
    "    :post-cond: val est présent n fois dans a\n",
    "    \"\"\"\n",
    "    if len(a) == 0:\n",
    "        return 0\n",
    "    else:\n",
    "        if a[0] == val:\n",
    "            return 1 + compte_val(val, a[1:])\n",
    "        else:\n",
    "            return compte_val(val, a[1:])\n",
    "        \n",
    "# 2e version\n",
    "\n",
    "def compte_val(val, a):  # écriture récursive\n",
    "    if len(a) == 0:\n",
    "        return 0\n",
    "    else:\n",
    "        # comptes partiels\n",
    "        cp1 = compte_val(val, a[1:])        \n",
    "        if a[0] == val:\n",
    "            cp2 = 1\n",
    "        else:\n",
    "            cp2 = 0\n",
    "        return cp1 + cp2\n",
    "\n",
    "# 3e version\n",
    "\n",
    "def compte_val(val, a):\n",
    "    compte_val_jusquà(val, a, len(a))\n",
    "    \n",
    "def compte_val_jusquà(val, a, lmax):\n",
    "    \"\"\"\n",
    "    :entrée val: float\n",
    "    :entrée a: tableau de float\n",
    "    :entrée imax: int\n",
    "    :pré-cond: 0 ≤ lmax ≤ len(a)\n",
    "    :sortie n: int\n",
    "    :post-cond: val est présent n fois dans a entre les indices 0 et lmax-1\n",
    "    \"\"\"\n",
    "    if lmax == 0:\n",
    "        return 0\n",
    "    else:\n",
    "        cp1 = compte_val_jusquà(val, a, lmax-1)        \n",
    "        if a[lmax-1] == val:\n",
    "            cp2 = 1\n",
    "        else:\n",
    "            cp2 = 0\n",
    "        return cp1 + cp2\n",
    "        \n",
    "    \n"
   ]
  },
  {
   "cell_type": "code",
   "execution_count": 2,
   "metadata": {},
   "outputs": [],
   "source": [
    "def est_trié(a):  # écriture récursive\n",
    "    \"\"\"\n",
    "    :entrée a: tableau de float\n",
    "    :sortie t: bool\n",
    "    :post-cond: t vaut True ssi les éléments de a sont triés par ordre croissant\n",
    "    \"\"\"\n",
    "    if len(a) <= 1:\n",
    "        return True\n",
    "    else:\n",
    "        if a[0] > a[1]:\n",
    "            return False\n",
    "        else:\n",
    "            return est_trié(a[1:])"
   ]
  },
  {
   "cell_type": "code",
   "execution_count": 3,
   "metadata": {},
   "outputs": [],
   "source": [
    "def divise_par_x(a, x):  # écriture récursive\n",
    "    \"\"\"\n",
    "    :entrée/sortie a: tableau de float\n",
    "    :entrée x: float\n",
    "    :pré-cond: x ≠ 0\n",
    "    :post-cond: ∀i ∈ [0; len(aₑ)[, aₛ[i] = aₑ[i]/x\n",
    "    \"\"\"\n",
    "    if x != 1 and len(a) > 0:\n",
    "        a[0] = a[0]/x\n",
    "        divise_par_x(a[1:], x)"
   ]
  },
  {
   "cell_type": "code",
   "execution_count": 4,
   "metadata": {},
   "outputs": [],
   "source": [
    "def pousse(a, x):\n",
    "    \"\"\"\n",
    "    :entrée/sortie a: tableau de float\n",
    "    :entrée x: float\n",
    "    :sortie y: float\n",
    "    :post-cond: on \"pousse\" x dans la première case de a,\n",
    "                en décalant toutes les valeurs vers la gauche,\n",
    "                et on retourne la dernière valeur (qui \"tombe\" du tableau)\n",
    "    \n",
    "                ∀i ∈ [1; len(aₑ)[, aₛ[i] = aₑ[i-1],\n",
    "                aₛ[0] = x,  y = aₑ[len(aₑ)-1]     \n",
    "    \"\"\""
   ]
  }
 ],
 "metadata": {
  "kernelspec": {
   "display_name": "Python 3",
   "language": "python",
   "name": "python3"
  },
  "language_info": {
   "codemirror_mode": {
    "name": "ipython",
    "version": 3
   },
   "file_extension": ".py",
   "mimetype": "text/x-python",
   "name": "python",
   "nbconvert_exporter": "python",
   "pygments_lexer": "ipython3",
   "version": "3.6.7"
  }
 },
 "nbformat": 4,
 "nbformat_minor": 2
}
