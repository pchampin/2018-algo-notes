{
 "cells": [
  {
   "cell_type": "code",
   "execution_count": 1,
   "metadata": {},
   "outputs": [
    {
     "name": "stdout",
     "output_type": "stream",
     "text": [
      "[10 20 30 40 50]\n"
     ]
    }
   ],
   "source": [
    "from numpy import array\n",
    "\n",
    "a = array([10,20,30,40,50])\n",
    "print(a)"
   ]
  },
  {
   "cell_type": "code",
   "execution_count": 2,
   "metadata": {},
   "outputs": [
    {
     "name": "stdout",
     "output_type": "stream",
     "text": [
      "[20 30 40 50]\n"
     ]
    }
   ],
   "source": [
    "b = a[1:]\n",
    "print(b)"
   ]
  },
  {
   "cell_type": "code",
   "execution_count": 3,
   "metadata": {},
   "outputs": [
    {
     "name": "stdout",
     "output_type": "stream",
     "text": [
      "[99 30 40 50]\n"
     ]
    }
   ],
   "source": [
    "b[0] = 99\n",
    "print(b)"
   ]
  },
  {
   "cell_type": "code",
   "execution_count": 4,
   "metadata": {},
   "outputs": [
    {
     "name": "stdout",
     "output_type": "stream",
     "text": [
      "[10 99 30 40 50]\n"
     ]
    }
   ],
   "source": [
    "print(a)"
   ]
  },
  {
   "cell_type": "code",
   "execution_count": 5,
   "metadata": {},
   "outputs": [
    {
     "name": "stdout",
     "output_type": "stream",
     "text": [
      "[1 2 3 4 4 6 9]\n"
     ]
    }
   ],
   "source": [
    "def indice_min(a):\n",
    "    if len(a) == 1:\n",
    "        return 0\n",
    "    else:\n",
    "        i = indice_min(a[1:])+1\n",
    "        if a[0] <= a[i]:\n",
    "            return 0\n",
    "        else:\n",
    "            return i\n",
    "            \n",
    "def tri_sel(a):\n",
    "    if len(a) <= 1:\n",
    "        pass # rien à faire\n",
    "    else:\n",
    "        imin = indice_min(a)\n",
    "        tmp = a[0]\n",
    "        a[0] = a[imin]\n",
    "        a[imin] = tmp\n",
    "        tri_sel(a[1:])\n",
    "    \n",
    "def tri_sel(a):\n",
    "    b = a\n",
    "    while len(b) >= 1:\n",
    "        imin = indice_min(b)\n",
    "        tmp = b[0]\n",
    "        b[0] = b[imin]\n",
    "        b[imin] = tmp\n",
    "        b = b[1:]\n",
    "    \n",
    "A = array([3,6,1,4,9,2,4])\n",
    "tri_sel(A)\n",
    "print(A)"
   ]
  },
  {
   "cell_type": "code",
   "execution_count": 6,
   "metadata": {},
   "outputs": [
    {
     "name": "stdout",
     "output_type": "stream",
     "text": [
      "[2, 4, 5, 8, 3]\n"
     ]
    }
   ],
   "source": [
    "def insere_gauche(a, i):\n",
    "    \"\"\"\n",
    "    :entrée/sortie a: tableau de float\n",
    "    :entrée i: int\n",
    "    :pré-cond: 0 ≤ i < len(a)\n",
    "               a est trié entre les indices 0 et i-1 inclus\n",
    "    :post-cond: a est trié entre les indices 0 et i\n",
    "                les cases d'indice > i n'ont pas été modifiées\n",
    "    \"\"\"\n",
    "    while i > 0 and a[i-1] > a[i]:\n",
    "        tmp = a[i]\n",
    "        a[i] = a[i-1]\n",
    "        a[i-1] = tmp\n",
    "        i = i-1\n",
    "        \n",
    "def insere_gauche(a, i):\n",
    "    if i == 0 or a[i-1] <= a[i]:\n",
    "        pass\n",
    "    else:\n",
    "        tmp = a[i]\n",
    "        a[i] = a[i-1]\n",
    "        a[i-1] = tmp\n",
    "        insere_gauche(a, i-1)\n",
    "  \n",
    "        \n",
    "a = [2,5,8,4,3]\n",
    "insere_gauche(a, 3)\n",
    "print(a)"
   ]
  },
  {
   "cell_type": "code",
   "execution_count": 7,
   "metadata": {},
   "outputs": [
    {
     "name": "stdout",
     "output_type": "stream",
     "text": [
      "[1, 2, 5, 8, 3]\n"
     ]
    }
   ],
   "source": [
    "a = [2,5,8,1,3]\n",
    "insere_gauche(a, 3)\n",
    "print(a)"
   ]
  }
 ],
 "metadata": {
  "kernelspec": {
   "display_name": "Python 3",
   "language": "python",
   "name": "python3"
  },
  "language_info": {
   "codemirror_mode": {
    "name": "ipython",
    "version": 3
   },
   "file_extension": ".py",
   "mimetype": "text/x-python",
   "name": "python",
   "nbconvert_exporter": "python",
   "pygments_lexer": "ipython3",
   "version": "3.6.7"
  }
 },
 "nbformat": 4,
 "nbformat_minor": 2
}
