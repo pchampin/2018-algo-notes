{
 "cells": [
  {
   "cell_type": "code",
   "execution_count": 1,
   "metadata": {},
   "outputs": [],
   "source": [
    "from numpy import array\n",
    "a = array([1,3,1,9,5,2])"
   ]
  },
  {
   "cell_type": "code",
   "execution_count": 2,
   "metadata": {},
   "outputs": [
    {
     "name": "stdout",
     "output_type": "stream",
     "text": [
      "longueur: 6\n",
      "élément:  2\n"
     ]
    }
   ],
   "source": [
    "print(\"longueur:\", len(a) )\n",
    "print(\"élément: \", a[5] )"
   ]
  },
  {
   "cell_type": "markdown",
   "metadata": {},
   "source": [
    "Un tableau\n",
    "- contient plusieurs valeurs à la fois\n",
    "- toutes ces valeurs sont du même type\n",
    "- mais différents tableaux peuvent contenir des éléments de n'importe quel type\n",
    "  (atomique ou complexe)\n",
    "  Exemple : tableau de float, tableau de str, tableau de tableau de booléen\n",
    "  \n",
    "\n",
    "# Corrigés des exercices"
   ]
  },
  {
   "cell_type": "code",
   "execution_count": 3,
   "metadata": {},
   "outputs": [
    {
     "name": "stdout",
     "output_type": "stream",
     "text": [
      "nj\n"
     ]
    }
   ],
   "source": [
    "def sous_chaine(txt, début, fin):\n",
    "    \"\"\"\n",
    "    :entrée txt: str\n",
    "    :entrée début: int\n",
    "    :entrée fin: int\n",
    "    :pré-cond: 0 ≤ début ≤ fin ≤ len(txt)\n",
    "    :sortie txt2: str\n",
    "    :post-cond: txt2 est la sous-chaîne de txt\n",
    "                comprise entre les indices début et fin, c’est à dire\n",
    "                pour tout i tel que début ≤ i < fin ,\n",
    "                txt[i] == txt2[i-début] .\n",
    "    \"\"\"\n",
    "\n",
    "    \n",
    "    txt2=\"\"\n",
    "    i = début\n",
    "    while i<fin:\n",
    "        txt2 = txt2 + txt[i]\n",
    "        i = i + 1\n",
    "    return txt2\n",
    "\n",
    "print (sous_chaine(\"bonjour\", 2, 4) )"
   ]
  },
  {
   "cell_type": "code",
   "execution_count": 4,
   "metadata": {},
   "outputs": [
    {
     "name": "stdout",
     "output_type": "stream",
     "text": [
      "=== je compare  r avec r\n",
      "=== je compare  a avec a\n",
      "True\n",
      "=== je compare  r avec s\n",
      "False\n"
     ]
    }
   ],
   "source": [
    "def palindrome(s):\n",
    "    \"\"\"\n",
    "    :entrée s: str\n",
    "    :sortie p: bool\n",
    "    :post-cond: p est True si et seulement si\n",
    "                pour tout i tel que 0 ≤ i < len(s), s[i] == s[len(s)-i-1] .\n",
    "    \"\"\"\n",
    "    p = True\n",
    "    i = 0\n",
    "    while i < len(s)//2 and p:\n",
    "        print (\"===\", \"je compare \", s[i], \"avec\", s[len(s)-i-1])\n",
    "        if s[i] != s[len(s)-i-1]:\n",
    "            p = False\n",
    "        i = i+1\n",
    "    return p\n",
    "\n",
    "print(palindrome(\"radar\"))\n",
    "print(palindrome(\"radars\"))"
   ]
  },
  {
   "cell_type": "code",
   "execution_count": 5,
   "metadata": {},
   "outputs": [
    {
     "name": "stdout",
     "output_type": "stream",
     "text": [
      "=== je compare  r avec r\n",
      "=== je compare  a avec a\n",
      "True\n",
      "=== je compare  r avec s\n",
      "False\n"
     ]
    }
   ],
   "source": [
    "# variantes pour\n",
    "# - return dans la boucle (⚠ lisibilité)\n",
    "# - deux indices qui progressent en sens inverse\n",
    "\n",
    "def palindrome(s):\n",
    "    \"\"\"\n",
    "    :entrée s: str\n",
    "    :sortie p: bool\n",
    "    :post-cond: p est True si et seulement si\n",
    "                pour tout i tel que 0 ≤ i < len(s), s[i] == s[len(s)-i-1] .\n",
    "    \"\"\"\n",
    "    i = 0\n",
    "    j = len(s)-1\n",
    "    while i < j:\n",
    "        print (\"===\", \"je compare \", s[i], \"avec\", s[j])\n",
    "        if s[i] != s[j]:\n",
    "            return False\n",
    "        i = i+1\n",
    "        j = j-1\n",
    "    return True\n",
    "\n",
    "print(palindrome(\"radar\"))\n",
    "print(palindrome(\"radars\"))"
   ]
  },
  {
   "cell_type": "code",
   "execution_count": 6,
   "metadata": {},
   "outputs": [
    {
     "name": "stdout",
     "output_type": "stream",
     "text": [
      "''\n",
      "'bon'\n",
      "'sal'\n"
     ]
    }
   ],
   "source": [
    "def préfixe_commun(txt1, txt2):\n",
    "    \"\"\"\n",
    "    :entrée txt1: str\n",
    "    :entrée txt2: str\n",
    "    :sortie p: str\n",
    "    :post-cond: p est le plus grand préfixe commun de txt1 et txt2, c’est à dire\n",
    "                pour tout i tel que 0 ≤ i < len(p) , txt1[i] == txt2[i] == p[i]\n",
    "    \"\"\"\n",
    "    p = \"\"\n",
    "    i = 0\n",
    "    while i < len(txt1) and i < len(txt2) and txt1[i] == txt2[i]:\n",
    "        p = p + txt1[i]\n",
    "        i = i+1\n",
    "    return p\n",
    "\n",
    "print(repr( préfixe_commun(\"a\", \"b\") ))\n",
    "print(repr( préfixe_commun(\"bonjour\", \"bonsoir\") ))\n",
    "print(repr( préfixe_commun(\"sal\", \"salut\") ))"
   ]
  },
  {
   "cell_type": "code",
   "execution_count": 7,
   "metadata": {},
   "outputs": [
    {
     "name": "stdout",
     "output_type": "stream",
     "text": [
      "False\n",
      "False\n",
      "True\n"
     ]
    }
   ],
   "source": [
    "# on peut écrire la fonction 'commence_par' (de la séance précédente\n",
    "# en utilisant la fonction 'préfixe_commun'\n",
    "\n",
    "def commence_par(txt1, txt2):\n",
    "    \"\"\"\n",
    "    :entrée txt1: str\n",
    "    :entrée txt2: str\n",
    "    :sortie c: bool\n",
    "    :post-cond: c est True si et seulement si\n",
    "                txt1 commence par txt2, c’est à dire\n",
    "                pour tout i tel que 0 ≤ i < len(txt2) , txt1[i] == txt2[i] .\n",
    "    \"\"\"\n",
    "    return préfixe_commun(txt1, txt2) == txt2\n",
    "\n",
    "print(repr( commence_par(\"a\", \"b\") ))\n",
    "print(repr( commence_par(\"bonjour\", \"bonsoir\") ))\n",
    "print(repr( commence_par(\"salut\", \"sal\") ))"
   ]
  }
 ],
 "metadata": {
  "kernelspec": {
   "display_name": "Python 3",
   "language": "python",
   "name": "python3"
  },
  "language_info": {
   "codemirror_mode": {
    "name": "ipython",
    "version": 3
   },
   "file_extension": ".py",
   "mimetype": "text/x-python",
   "name": "python",
   "nbconvert_exporter": "python",
   "pygments_lexer": "ipython3",
   "version": "3.6.6"
  }
 },
 "nbformat": 4,
 "nbformat_minor": 2
}
