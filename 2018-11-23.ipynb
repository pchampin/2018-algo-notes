{
 "cells": [
  {
   "cell_type": "code",
   "execution_count": 1,
   "metadata": {},
   "outputs": [
    {
     "name": "stdout",
     "output_type": "stream",
     "text": [
      "3\n"
     ]
    }
   ],
   "source": [
    "def indice_min(a):\n",
    "    \"\"\"\n",
    "    :entrée a: tableau de float\n",
    "    :sortie imin: int\n",
    "    :pré-cond: len(a) > 0\n",
    "    :post-cond: imin est l’indice de la plus petite valeur de a, c’est à dire\n",
    "                ∀ i ∈ [0;len(a)[, a[imin] ≤ a[i]\n",
    "    \"\"\"\n",
    "    imin = 0\n",
    "    i = 1\n",
    "    while i < len(a):\n",
    "        if a[i] < a[imin]:\n",
    "            imin = i\n",
    "        i = i+1\n",
    "    return imin\n",
    "\n",
    "\n",
    "print (indice_min([1.5, 0.0, 2.0, -5.0, 7.3, 1.5]))"
   ]
  },
  {
   "cell_type": "code",
   "execution_count": 2,
   "metadata": {},
   "outputs": [
    {
     "name": "stdout",
     "output_type": "stream",
     "text": [
      "11.0\n"
     ]
    }
   ],
   "source": [
    "def moyenne(a):\n",
    "    \"\"\"\n",
    "    :entrée a: tableau de float\n",
    "    :pré-cond: len(a) > 0\n",
    "    :sortie moy: float\n",
    "    :post-cond: moy est la moyenne des éléments de a\n",
    "    \"\"\"\n",
    "    s = 0 # somme\n",
    "    i = 0\n",
    "    while i < len(a):\n",
    "        s = s + a[i]\n",
    "        i = i+1\n",
    "    return s/len(a)\n",
    "\n",
    "print (moyenne([10.0, 10.0, 12.0, 12.0]))"
   ]
  },
  {
   "cell_type": "code",
   "execution_count": 3,
   "metadata": {},
   "outputs": [
    {
     "name": "stdout",
     "output_type": "stream",
     "text": [
      "a a a\n",
      "a a b\n",
      "a a c\n",
      "a b a\n",
      "a b b\n",
      "a b c\n",
      "a c a\n",
      "a c b\n",
      "a c c\n",
      "b a a\n",
      "b a b\n",
      "b a c\n",
      "b b a\n",
      "b b b\n",
      "b b c\n",
      "b c a\n",
      "b c b\n",
      "b c c\n",
      "c a a\n",
      "c a b\n",
      "c a c\n",
      "c b a\n",
      "c b b\n",
      "c b c\n",
      "c c a\n",
      "c c b\n",
      "c c c\n"
     ]
    }
   ],
   "source": [
    "def triplets(a):\n",
    "    \"\"\"\n",
    "    :entrée a: tableau de str\n",
    "    :sortie: (affichage)\n",
    "    :post-cond: affiche toutes les combinaisons possibles\n",
    "                de trois éléments de a (ordonnées, avec remise)\n",
    "    \"\"\"\n",
    "    i = 0\n",
    "    while i < len(a):\n",
    "        j = 0\n",
    "        while j < len(a):\n",
    "            k = 0\n",
    "            while k < len(a):\n",
    "                print(a[i] + \" \" + a[j] + \" \" + a[k])\n",
    "                k = k+1\n",
    "            j = j+1\n",
    "        i = i+1\n",
    "        \n",
    "triplets([\"a\", \"b\", \"c\"])"
   ]
  },
  {
   "cell_type": "code",
   "execution_count": 4,
   "metadata": {},
   "outputs": [],
   "source": [
    "def est_trié(a):\n",
    "    \"\"\"\n",
    "    :entrée a: tableau de float\n",
    "    :sortie t: bool\n",
    "    :post-cond: t vaut True si et seulement si a est trié, c’est à dire\n",
    "                si ∀ i ∈ [1;len(a)[, a[i-1] ≤ a[i]\n",
    "    \"\"\"\n",
    "    t = True\n",
    "    i = 1\n",
    "    while i < len(a) and t:\n",
    "        if a[i-1] > a[i]:\n",
    "            t = False\n",
    "        i = i+1\n",
    "    return t\n",
    "\n",
    "# NB: cet algo fonctionne même si len(a) == 0 ou len(a) == 1\n",
    "# → les cas *limites* ne sont pas forcément des cas *particuliers*"
   ]
  },
  {
   "cell_type": "code",
   "execution_count": 5,
   "metadata": {},
   "outputs": [
    {
     "name": "stdout",
     "output_type": "stream",
     "text": [
      "6\n",
      "10\n",
      "[1.50836740e-316 5.95832805e+271 5.95667713e+271 5.95750259e+271\n",
      " 5.95667713e+271 5.95915351e+271 5.95667713e+271 6.01334434e-154\n",
      " 1.58101007e-322 0.00000000e+000]\n"
     ]
    }
   ],
   "source": [
    "from numpy import *\n",
    "\n",
    "# construire un tableau\n",
    "\n",
    "a1 = array([1.5, 0.0, 2.0, -5.0, 7.3, 1.5])\n",
    "print(len(a1))\n",
    "\n",
    "# construite un tableau non initialisé (≈ vide)\n",
    "a2 = empty(10, float)\n",
    "print(len(a2))\n",
    "print(a2)"
   ]
  },
  {
   "cell_type": "code",
   "execution_count": 6,
   "metadata": {},
   "outputs": [
    {
     "name": "stdout",
     "output_type": "stream",
     "text": [
      "[0. 0. 0. 0. 0. 0. 0. 0. 0. 0.]\n"
     ]
    }
   ],
   "source": [
    "# modifier un élement d'un tableau\n",
    "i = 0\n",
    "while i < 10:\n",
    "    a2[i] = 0.0\n",
    "    i += 1\n",
    "print(a2)"
   ]
  },
  {
   "cell_type": "code",
   "execution_count": 7,
   "metadata": {},
   "outputs": [
    {
     "name": "stdout",
     "output_type": "stream",
     "text": [
      "43\n",
      "42\n"
     ]
    }
   ],
   "source": [
    "def f(a):\n",
    "    a = a+1  # on *remplace* la valeur de a (dans la fonction)\n",
    "             # par une autre valeur,\n",
    "             # sans impacter la valeur de a à l'extérieur\n",
    "    print(a)\n",
    "    \n",
    "a = 42\n",
    "f(a)\n",
    "print(a)"
   ]
  },
  {
   "cell_type": "code",
   "execution_count": 8,
   "metadata": {},
   "outputs": [
    {
     "name": "stdout",
     "output_type": "stream",
     "text": [
      "[43]\n",
      "[43]\n"
     ]
    }
   ],
   "source": [
    "def f(a):\n",
    "    a[0] = a[0]+1  # on *modifie* le contenu du tableau,\n",
    "                   # qui reste le *même* tableau que celui contenu\n",
    "                   # dans la variable a à l'extérieur de f\n",
    "    print(a)\n",
    "    \n",
    "a = array([42])\n",
    "f(a)\n",
    "print(a)"
   ]
  }
 ],
 "metadata": {
  "kernelspec": {
   "display_name": "Python 3",
   "language": "python",
   "name": "python3"
  },
  "language_info": {
   "codemirror_mode": {
    "name": "ipython",
    "version": 3
   },
   "file_extension": ".py",
   "mimetype": "text/x-python",
   "name": "python",
   "nbconvert_exporter": "python",
   "pygments_lexer": "ipython3",
   "version": "3.6.6"
  }
 },
 "nbformat": 4,
 "nbformat_minor": 2
}
