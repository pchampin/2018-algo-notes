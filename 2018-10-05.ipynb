{
 "cells": [
  {
   "cell_type": "code",
   "execution_count": 1,
   "metadata": {},
   "outputs": [
    {
     "name": "stdout",
     "output_type": "stream",
     "text": [
      "3667\n",
      "0 0 1 1 7\n"
     ]
    }
   ],
   "source": [
    "\"\"\"\n",
    ":entrée durée: int\n",
    ":pré-cond: durée ≥ 0\n",
    "\n",
    ":sortie secondes: int\n",
    ":sortie minutes: int\n",
    ":sortie heures: int\n",
    ":sortie jours: int\n",
    ":sortie semaines: int\n",
    ":post-cond:\n",
    "  si “durée” est un nombre de  secondes, les sorties sont...\n",
    "\"\"\"\n",
    "durée = int(input())\n",
    "\n",
    "secondes = durée % 60\n",
    "durée = durée // 60\n",
    "# maintenant durée est en minutes\n",
    "minutes = durée % 60\n",
    "durée = durée // 60\n",
    "# maintenant durée est en heures\n",
    "heures = durée % 24\n",
    "durée = durée // 24\n",
    "# maintenant durée est en jours\n",
    "jours = durée % 7\n",
    "semaines = durée // 7\n",
    "\n",
    "print(semaines, jours, heures, minutes, secondes)"
   ]
  },
  {
   "cell_type": "code",
   "execution_count": 2,
   "metadata": {},
   "outputs": [
    {
     "name": "stdout",
     "output_type": "stream",
     "text": [
      "7\n",
      "1\n",
      "1\n",
      "0\n",
      "3667\n"
     ]
    }
   ],
   "source": [
    "\"\"\"\n",
    ":entrée secondes: int\n",
    ":entrée minutes: int\n",
    ":entrée heures: int\n",
    ":entrée jours: int\n",
    ":pré-cond:\n",
    "  0 ≤ secondes < 60\n",
    "  0 ≤ minutes < 60\n",
    "  0 ≤ heures < 24\n",
    "  0 ≤ jours\n",
    "\n",
    ":sortie durée:\n",
    ":post-cond:\n",
    "  “durée” est la durée totale en secondes, de la période décrite en entrée\n",
    "  (nombres de secondes, minutes, heures et jours, respectivement)\n",
    "\"\"\"\n",
    "secondes = int(input())\n",
    "minutes = int(input())\n",
    "heures = int(input())\n",
    "jours = int(input())\n",
    "\n",
    "durée = secondes + minutes*60 + heures*60*60 + jours*24*60*60\n",
    "\n",
    "print(durée)"
   ]
  },
  {
   "cell_type": "code",
   "execution_count": 3,
   "metadata": {},
   "outputs": [
    {
     "name": "stdout",
     "output_type": "stream",
     "text": [
      "2020\n",
      "True\n"
     ]
    }
   ],
   "source": [
    "\"\"\"\n",
    ":entrée année: int\n",
    ":pré-cond:\n",
    "  année > 0\n",
    ":sortie bissextile: bool\n",
    "  “bissextile” vaut True\n",
    "  si et seulement si\n",
    "  “année” est bissextile\n",
    "\"\"\"\n",
    "\n",
    "année = int(input())\n",
    "est_un_multiple_de_4 = année % 4 == 0\n",
    "est_un_multiple_de_100 = année % 100 == 0\n",
    "est_un_multiple_de_400 = année % 400 == 0\n",
    "\n",
    "bissextile = (est_un_multiple_de_4 and not est_un_multiple_de_100\n",
    "              or est_un_multiple_de_400)\n",
    "    \n",
    "    \n",
    "print(bissextile)"
   ]
  },
  {
   "cell_type": "markdown",
   "metadata": {},
   "source": [
    "# Fonction\n",
    "\n",
    "Les programmes que nous avons écrit jusqu'à maintenant\n",
    "\n",
    "* récupèrent leurs entrées depuis le clavier (`input`)\n",
    "* envoient leurs sorties à l'écran (`print`)\n",
    "\n",
    "Dans certains cas, on souhaite qu'un programme P1\n",
    "puisse exécuter un *autre* programme P2.\n",
    "Pour cela, il faut que P2 puisse\n",
    "\n",
    "* récupérer ses entrées depuis P1,\n",
    "* envoyer ses sorties à P1.\n",
    "\n",
    "Ce type de programme, utilisable par un autre programme,\n",
    "est appelé une fonction."
   ]
  },
  {
   "cell_type": "code",
   "execution_count": 4,
   "metadata": {},
   "outputs": [
    {
     "name": "stdout",
     "output_type": "stream",
     "text": [
      "18\n",
      "2018 n'est pas bissextile\n"
     ]
    }
   ],
   "source": [
    "def année_bissextile(année):\n",
    "    \"\"\"\n",
    "    :entrée année: int\n",
    "    :pré-cond:\n",
    "      année > 0\n",
    "    :sortie bissextile: bool À L'ÉCRAN\n",
    "      “bissextile” vaut True\n",
    "      si et seulement si\n",
    "      “année” est bissextile\n",
    "    \"\"\"\n",
    "    est_un_multiple_de_4 = année % 4 == 0\n",
    "    est_un_multiple_de_100 = année % 100 == 0\n",
    "    est_un_multiple_de_400 = année % 400 == 0\n",
    "    bissextile = (est_un_multiple_de_4 and not est_un_multiple_de_100\n",
    "                  or est_un_multiple_de_400)\n",
    "\n",
    "    return bissextile\n",
    "\n",
    "# programme *appelant* la fonction année_bissextile\n",
    "\n",
    "année = int(input())\n",
    "if année_bissextile(2000 + année):\n",
    "    print(2000+année, \"est bissextile\")\n",
    "else:\n",
    "    print(2000+année, \"n'est pas bissextile\")"
   ]
  },
  {
   "cell_type": "markdown",
   "metadata": {},
   "source": [
    "## Fonctions et variable\n",
    "\n",
    "Chaque programme et fonction a ses propres variables, même si les noms de variables utilisées sont les même.\n",
    "\n",
    "Dans l'exemple ci-dessus, le programme principal a une variable `année` qui contient la valeur saisie par l'utilisateur (ici 18).\n",
    "\n",
    "La fonction a une variable `année` qui reçoit la valeur passée par le programme principale (ici, 2018)."
   ]
  },
  {
   "cell_type": "code",
   "execution_count": 5,
   "metadata": {},
   "outputs": [
    {
     "name": "stdout",
     "output_type": "stream",
     "text": [
      "60\n"
     ]
    }
   ],
   "source": [
    "def durée_totale_en_secondes(secondes, minutes, heures, jours):\n",
    "    \"\"\"\n",
    "    :entrée secondes: int\n",
    "    :entrée minutes: int\n",
    "    :entrée heures: int\n",
    "    :entrée jours: int\n",
    "    :pré-cond:\n",
    "      0 ≤ secondes < 60\n",
    "      0 ≤ minutes < 60\n",
    "      0 ≤ heures < 24\n",
    "      0 ≤ jours\n",
    "\n",
    "    :sortie durée:\n",
    "    :post-cond:\n",
    "      “durée” est la durée totale en secondes, de la période décrite en entrée\n",
    "      (nombres de secondes, minutes, heures et jours, respectivement)\n",
    "    \"\"\"\n",
    "    durée = secondes + minutes*60 + heures*60*60 + jours*24*60*60\n",
    "\n",
    "    return durée\n",
    "\n",
    "print(durée_totale_en_secondes(0,1,0,0))"
   ]
  },
  {
   "cell_type": "code",
   "execution_count": 6,
   "metadata": {},
   "outputs": [
    {
     "name": "stdout",
     "output_type": "stream",
     "text": [
      "3667\n",
      "0 jours 1 : 1 : 7\n"
     ]
    }
   ],
   "source": [
    "def durée_smhjs(durée):\n",
    "    \"\"\"\n",
    "    :entrée durée: int\n",
    "    :pré-cond: durée ≥ 0\n",
    "\n",
    "    :sortie secondes: int\n",
    "    :sortie minutes: int\n",
    "    :sortie heures: int\n",
    "    :sortie jours: int\n",
    "    :sortie semaines: int\n",
    "    :post-cond:\n",
    "      si “durée” est un nombre de  secondes, les sorties sont...\n",
    "    \"\"\"\n",
    "    secondes = durée % 60\n",
    "    durée = durée // 60\n",
    "    # maintenant durée est en minutes\n",
    "    minutes = durée % 60\n",
    "    durée = durée // 60\n",
    "    # maintenant durée est en heures\n",
    "    heures = durée % 24\n",
    "    durée = durée // 24\n",
    "    # maintenant durée est en jours\n",
    "    jours = durée % 7\n",
    "    semaines = durée // 7\n",
    "\n",
    "    return semaines, jours, heures, minutes, secondes\n",
    "\n",
    "d = int(input())\n",
    "sem, jo, he, mi, sec = durée_smhjs(d)\n",
    "print(jo, \"jours\", he ,\":\", mi, \":\", sec)\n"
   ]
  },
  {
   "cell_type": "code",
   "execution_count": 7,
   "metadata": {},
   "outputs": [
    {
     "name": "stdout",
     "output_type": "stream",
     "text": [
      "29\n"
     ]
    }
   ],
   "source": [
    "def nb_jours(numéro_de_mois, année):\n",
    "    \"\"\"\n",
    "    :entrée numéro_de_mois: int\n",
    "    :entrée année: int\n",
    "    :pré-cond:\n",
    "      1 ≤ numéro_de_mois ≤ 12\n",
    "      0 < année\n",
    "    :sortie nombre_de_jours: int\n",
    "      “nombre_de_jours” est\n",
    "      le nombre de jours du mois\n",
    "      donné dans l’année donnée\n",
    "    \"\"\"\n",
    "    if (numéro_de_mois == 1\n",
    "        or numéro_de_mois == 3\n",
    "        or numéro_de_mois == 5\n",
    "        or numéro_de_mois == 7\n",
    "        or numéro_de_mois == 8\n",
    "        or numéro_de_mois == 10\n",
    "        or numéro_de_mois == 12):\n",
    "\n",
    "        nombre_de_jours = 31\n",
    "\n",
    "    else:\n",
    "        if (numéro_de_mois == 4\n",
    "            or numéro_de_mois == 6\n",
    "            or numéro_de_mois == 9\n",
    "            or numéro_de_mois == 11):\n",
    "\n",
    "            nombre_de_jours = 30\n",
    "\n",
    "        else:\n",
    "\n",
    "            if année_bissextile(année):            \n",
    "                nombre_de_jours = 29\n",
    "            else:\n",
    "                nombre_de_jours = 28\n",
    "\n",
    "    return nombre_de_jours\n",
    "\n",
    "print(nb_jours(2,2020))"
   ]
  }
 ],
 "metadata": {
  "kernelspec": {
   "display_name": "Python 3",
   "language": "python",
   "name": "python3"
  },
  "language_info": {
   "codemirror_mode": {
    "name": "ipython",
    "version": 3
   },
   "file_extension": ".py",
   "mimetype": "text/x-python",
   "name": "python",
   "nbconvert_exporter": "python",
   "pygments_lexer": "ipython3",
   "version": "3.6.6"
  }
 },
 "nbformat": 4,
 "nbformat_minor": 2
}
