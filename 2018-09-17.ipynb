{
 "cells": [
  {
   "cell_type": "markdown",
   "metadata": {},
   "source": [
    "# Booléens\n",
    "\n",
    "Notion proposée par [George Boole](https://fr.wikipedia.org/wiki/George_Boole) pour pouvoir faire du *calcul* sur la vérité ce certaines phrases (ou *propositions*).\n",
    "\n",
    "En langage algotithmique, ce type se note `bool` et possède 2 valeurs, `True` et `False`.\n",
    "\n",
    "Il est muni de 3 opérateurs définis ainsi :\n",
    "\n",
    "`a and b`\n",
    "\n",
    "| b\\a | T | F |\n",
    "|-----|---|---|\n",
    "|  T  | T | F |\n",
    "|  F  | F | F |\n",
    "\n",
    "`a or b`\n",
    "\n",
    "| b\\a | T | F |\n",
    "|-----|---|---|\n",
    "|  T  | T | T |\n",
    "|  F  | T | F |\n",
    "\n",
    "`not a`\n",
    "\n",
    "| a | not a |\n",
    "|---|-------|\n",
    "| T | F |\n",
    "| F | T |"
   ]
  },
  {
   "cell_type": "markdown",
   "metadata": {},
   "source": [
    "# Opérateurs de comparaison et condition\n",
    "\n",
    "Les opérateurs `==`, `!=`, `<`, `>`, `<=` et `>=` sont en fait des opérateurs de calculs, au même titre que `+`, `-`, `*`...\n",
    "\n",
    "Leur seule différence est qu'ils donnent un résultat booléen, et non un résultat numérique.\n",
    "\n",
    "Ainsi, la condition qu'on peut donner à un `if` ou un `while` est n'importe quel calcul dont le résultat est un booléen. Inversement, un tel calcul n'est pas limité à apparaître dans un `if` ou un `while` ; on peut également l'affecter à une variable."
   ]
  }
 ],
 "metadata": {
  "kernelspec": {
   "display_name": "Python 3",
   "language": "python",
   "name": "python3"
  },
  "language_info": {
   "codemirror_mode": {
    "name": "ipython",
    "version": 3
   },
   "file_extension": ".py",
   "mimetype": "text/x-python",
   "name": "python",
   "nbconvert_exporter": "python",
   "pygments_lexer": "ipython3",
   "version": "3.6.6"
  }
 },
 "nbformat": 4,
 "nbformat_minor": 2
}
