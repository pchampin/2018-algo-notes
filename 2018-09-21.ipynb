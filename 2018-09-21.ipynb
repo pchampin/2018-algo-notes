{
 "cells": [
  {
   "cell_type": "markdown",
   "metadata": {},
   "source": [
    "# Conditions\n",
    "\n",
    "## Conditions non booléennes\n",
    "\n",
    "La condition d'un if ou d'un while peut être n'importe quelle expression booléenne (i.e. calcul dont le résultat a le type bool).\n",
    "\n",
    "On peut également utiliser d'autres types. Par **convention** (dans *notre* langage algorithmique) :\n",
    "\n",
    "- 0 équivaut à faux, toute autre valeur numérique équivaut à vrai\n",
    "- \"\" équivaut à faux, toute autre chaîne équivaut à vrai\n",
    "\n",
    "⚠ Ces conventions peuvent changer d'un langage à l'autre."
   ]
  },
  {
   "cell_type": "code",
   "execution_count": null,
   "metadata": {},
   "outputs": [],
   "source": [
    "if message:\n",
    "    print(message)\n",
    "\n",
    "# peut parfois être considéré comme plus lisible que\n",
    "\n",
    "if message != \"\":\n",
    "    print(message)"
   ]
  },
  {
   "cell_type": "markdown",
   "metadata": {},
   "source": [
    "## Ordre des conditions\n",
    "\n",
    "Avec l'opérateur `and`, si la première opérande est `False`, le résultat est `False` indépendamment de la deuxième opérande.\n",
    "\n",
    "Réciproquement, si la première opérande de `or` est `True`, le résultat est `True` indépendamment de la deuxième opérande.\n",
    "\n",
    "La majorité des langages de programmation utilisent ce fait, et ne *calculent* pas la deuxième opérande si la première permet de connaître immédiatement le résultat.\n",
    "\n",
    "Ainsi, on peut écrire :"
   ]
  },
  {
   "cell_type": "code",
   "execution_count": 6,
   "metadata": {},
   "outputs": [
    {
     "name": "stdout",
     "output_type": "stream",
     "text": [
      "a ?  0\n",
      "b ?  1\n",
      "NON\n"
     ]
    }
   ],
   "source": [
    "a = int(input(\"a ?  \"))\n",
    "b = int(input(\"b ?  \"))\n",
    "\n",
    "if a != 0  and  b/a > 2:\n",
    "    print(\"OUI\")\n",
    "else:\n",
    "    print(\"NON\")"
   ]
  },
  {
   "cell_type": "markdown",
   "metadata": {},
   "source": [
    "Si on avait inversé l'ordre des opérande, dans le cas ci-dessus, le programme aurait déclenché une erreur car `b/a > 2` aurait entraîné une division par zéro.\n",
    "\n",
    "Le programme ci-dessus est en fait équivalent à"
   ]
  },
  {
   "cell_type": "code",
   "execution_count": 7,
   "metadata": {},
   "outputs": [
    {
     "name": "stdout",
     "output_type": "stream",
     "text": [
      "NON\n"
     ]
    }
   ],
   "source": [
    "if a != 0:\n",
    "    if b/a > 2:\n",
    "        print(\"OUI\")\n",
    "    else:\n",
    "        print(\"NON\")\n",
    "else:\n",
    "    print(\"NON\")"
   ]
  },
  {
   "cell_type": "markdown",
   "metadata": {},
   "source": [
    "## Condition ou variable booléenne ?\n",
    "\n",
    "Lorsqu'un `if/else` ne sert à rien d'autre qu'à affecter une variable booléenne, on peut en général ré-écrire le programme plus simplement. Par exemple :"
   ]
  },
  {
   "cell_type": "code",
   "execution_count": 8,
   "metadata": {},
   "outputs": [],
   "source": [
    "# MAUVAIS EXEMPLE\n",
    "if a != 0  and  b/a > 2:\n",
    "    test = False\n",
    "else:\n",
    "    test = True"
   ]
  },
  {
   "cell_type": "markdown",
   "metadata": {},
   "source": [
    "s'écrit plus simplement"
   ]
  },
  {
   "cell_type": "code",
   "execution_count": 9,
   "metadata": {},
   "outputs": [],
   "source": [
    "test = not(a != 0  and  b/a > 2)"
   ]
  },
  {
   "cell_type": "markdown",
   "metadata": {},
   "source": [
    "ou encore (d'après les [lois de Morgan](https://fr.wikipedia.org/wiki/Lois_de_De_Morgan))"
   ]
  },
  {
   "cell_type": "code",
   "execution_count": null,
   "metadata": {},
   "outputs": [],
   "source": [
    "test = a == 0  or  b/a <= 2"
   ]
  },
  {
   "cell_type": "markdown",
   "metadata": {},
   "source": []
  },
  {
   "cell_type": "code",
   "execution_count": null,
   "metadata": {},
   "outputs": [],
   "source": [
    "durée = int(input(\"Durée totale en secondes ? \"))\n",
    "\n",
    "secondes = durée % ???\n",
    "durée = durée // ???\n",
    "# maintenant durée est en minutes\n",
    "minutes = durée % ???\n",
    "durée = durée // ???\n",
    "# maintenant durée est en XXX\n",
    "XXX = durée % ???\n",
    "durée = durée // ???\n",
    "# maintenant durée est en XXX\n",
    "YYY = durée % 7\n",
    "ZZZ = durée // ???\n",
    "\n",
    "print(ZZZ, YYY, XXX, minutes, secondes)\n",
    "\n",
    "\n",
    "\n",
    "\n",
    "\n",
    "\n",
    "\n",
    "\n",
    "\n",
    "\n",
    "\n",
    "\n",
    "\n",
    "\n",
    "\n",
    "\n",
    "\n",
    "\n",
    "\n",
    "\n",
    "\n",
    "\n",
    "\n",
    "\n",
    "\n",
    "\n",
    "\n"
   ]
  },
  {
   "cell_type": "code",
   "execution_count": null,
   "metadata": {},
   "outputs": [],
   "source": [
    "secondes = int(input(\"Nombre de secondes ? \"))\n",
    "minutes = int(input(\"Nombre de minutes ? \"))\n",
    "heures = int(input(\"Nombre d'heures ? \"))\n",
    "jours = int(input(\"Nombre de jours ? \"))\n",
    "\n",
    "durée = ??? # durée totale en secondes\n",
    "print(durée)\n",
    "\n",
    "\n",
    "\n",
    "\n",
    "\n",
    "\n",
    "\n",
    "\n",
    "\n",
    "\n",
    "\n",
    "\n",
    "\n",
    "\n",
    "\n",
    "\n",
    "\n",
    "\n",
    "\n",
    "\n"
   ]
  },
  {
   "cell_type": "code",
   "execution_count": null,
   "metadata": {},
   "outputs": [],
   "source": [
    "numéro_de_mois = int(input())\n",
    "\n",
    "# (...)\n",
    "\n",
    "print(nombre_de_jours)\n",
    "\n",
    "\n",
    "\n",
    "\n",
    "\n",
    "\n",
    "\n",
    "\n",
    "\n",
    "\n",
    "\n",
    "\n",
    "\n",
    "\n",
    "\n",
    "\n",
    "\n",
    "\n",
    "\n",
    "\n",
    "\n",
    "\n",
    "\n",
    "\n"
   ]
  },
  {
   "cell_type": "code",
   "execution_count": null,
   "metadata": {},
   "outputs": [],
   "source": []
  }
 ],
 "metadata": {
  "kernelspec": {
   "display_name": "Python 3",
   "language": "python",
   "name": "python3"
  },
  "language_info": {
   "codemirror_mode": {
    "name": "ipython",
    "version": 3
   },
   "file_extension": ".py",
   "mimetype": "text/x-python",
   "name": "python",
   "nbconvert_exporter": "python",
   "pygments_lexer": "ipython3",
   "version": "3.6.6"
  }
 },
 "nbformat": 4,
 "nbformat_minor": 2
}
