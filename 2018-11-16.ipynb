{
 "cells": [
  {
   "cell_type": "code",
   "execution_count": 9,
   "metadata": {},
   "outputs": [
    {
     "name": "stdout",
     "output_type": "stream",
     "text": [
      "False\n"
     ]
    }
   ],
   "source": [
    "def tableaux_egaux(a, b):\n",
    "    \"\"\"\n",
    "    :entrée a: tableau de float\n",
    "    :entrée b: tableau de float\n",
    "    :sortie te: bool\n",
    "    :post-cond: te est True si et seulement si\n",
    "                les tableaux a et b sont égaux, c’est à dire\n",
    "                len(a) == len(b) et\n",
    "                ∀ i ∈ [0;len(a)[, a[i] == b[i]\n",
    "    \"\"\"\n",
    "    if len(a) != len(b):\n",
    "        return False\n",
    "    te = True\n",
    "    i = 0\n",
    "    while i < len(a) and te:\n",
    "        if a[i] != b[i]:\n",
    "            te = False\n",
    "        i += 1\n",
    "    return te\n",
    "\n",
    "print( tableaux_egaux([1,2,3], [5,2,3]) )"
   ]
  },
  {
   "cell_type": "code",
   "execution_count": 19,
   "metadata": {},
   "outputs": [
    {
     "name": "stdout",
     "output_type": "stream",
     "text": [
      "0\n"
     ]
    }
   ],
   "source": [
    "def indice_val(a, v):\n",
    "    \"\"\"\n",
    "    :entrée a: tableau de float\n",
    "    :entrée v: float\n",
    "    :sortie iv: int\n",
    "    :post-cond: iv est l’indice de v dans a, c’est à dire\n",
    "                si a contient v, iv est tel que a[iv] == v,\n",
    "                sinon iv == -1\n",
    "    \"\"\"\n",
    "    iv = -1\n",
    "    i = 0\n",
    "    while i < len(a) and iv==-1:\n",
    "        if a[i] == v:\n",
    "            iv = i\n",
    "        i += 1\n",
    "    return iv\n",
    "\n",
    "print( indice_val([10.0, 10.0, 20.0, ...] , 10.0) )"
   ]
  },
  {
   "cell_type": "code",
   "execution_count": 18,
   "metadata": {},
   "outputs": [
    {
     "name": "stdout",
     "output_type": "stream",
     "text": [
      "-1\n"
     ]
    }
   ],
   "source": [
    "def indice_val_trié(a, v):\n",
    "    \"\"\"\n",
    "    :entrée a: tableau de float\n",
    "    :entrée v: float\n",
    "    :pré-cond: a est trié par ordre croissant\n",
    "    :sortie iv: int\n",
    "    :post-cond: iv est l’indice de v dans a, c’est à dire\n",
    "                si a contient v, iv est tel que a[iv] == v,\n",
    "                sinon iv == -1\n",
    "    \"\"\"\n",
    "    iv = -1\n",
    "    i = 0\n",
    "    while i < len(a) and iv == -1 and a[i] <= v:\n",
    "        #                         -------------\n",
    "        #                         permet de s'arrêter dès qu'on a dépassé\n",
    "        #                         la position théorique de v dans a\n",
    "        if a[i] == v:\n",
    "            iv = i\n",
    "        i += 1\n",
    "    return iv\n",
    "\n",
    "print( indice_val_trié([10.0, 20.0, 30.0, ..., 1000.0] , 15.0) )"
   ]
  }
 ],
 "metadata": {
  "kernelspec": {
   "display_name": "Python 3",
   "language": "python",
   "name": "python3"
  },
  "language_info": {
   "codemirror_mode": {
    "name": "ipython",
    "version": 3
   },
   "file_extension": ".py",
   "mimetype": "text/x-python",
   "name": "python",
   "nbconvert_exporter": "python",
   "pygments_lexer": "ipython3",
   "version": "3.6.6"
  }
 },
 "nbformat": 4,
 "nbformat_minor": 2
}
