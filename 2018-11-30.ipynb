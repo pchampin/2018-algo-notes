{
 "cells": [
  {
   "cell_type": "code",
   "execution_count": 1,
   "metadata": {},
   "outputs": [],
   "source": [
    "def filtre_en_place(a, v):\n",
    "    \"\"\"\n",
    "    :entrée/sortie a: tableau de float\n",
    "    :entrée v: float\n",
    "    :pré-cond: ∅\n",
    "    :sortie n: int\n",
    "    :post-cond: remplace par 0 tous les éléments de a supérieurs à v ;\n",
    "                n est le nombre d’éléments qui ont été remplacés\n",
    "                c’est à dire\n",
    "                                            / aₑ[i]  si aₑ[i] < v,\n",
    "                ∀i ∈ [0; len(aₑ)[, aₛ[i] = { \n",
    "                                            \\ 0      sinon\n",
    "    \"\"\"\n",
    "    n = 0\n",
    "    i = 0\n",
    "    while i < len(a):\n",
    "        if a[i] > v:\n",
    "            a[i] = 0\n",
    "            n = n+1\n",
    "        i = i+1\n",
    "    return n"
   ]
  },
  {
   "cell_type": "code",
   "execution_count": 2,
   "metadata": {},
   "outputs": [],
   "source": [
    "def premier(n):\n",
    "    \"\"\"\n",
    "    :entrée n: int\n",
    "    :pré-cond: n ≥ 0\n",
    "    :sortie p: bool\n",
    "    :post-cond: p vaut True ssi n est premier\n",
    "    \"\"\"\n",
    "    if n <= 1:\n",
    "        return False\n",
    "    \n",
    "    p = True\n",
    "    i = 2\n",
    "    while i < n and p:\n",
    "        print(\"===\", i, p)\n",
    "        if n%i == 0:\n",
    "            p = False\n",
    "        i = i+1\n",
    "    return p\n",
    "\n",
    "\n",
    "def premier(n):\n",
    "    \"\"\"\n",
    "    :entrée n: int\n",
    "    :pré-cond: n ≥ 0\n",
    "    :sortie p: bool\n",
    "    :post-cond: p vaut True ssi n est premier\n",
    "    \"\"\"\n",
    "    if n <= 1:\n",
    "        return False\n",
    "    \n",
    "    p = True\n",
    "    i = 2\n",
    "    while i*i <= n and p:\n",
    "        print(\"===\", i, p)\n",
    "        if n%i == 0:\n",
    "            p = False\n",
    "        i = i+1\n",
    "    return p"
   ]
  },
  {
   "cell_type": "code",
   "execution_count": 3,
   "metadata": {},
   "outputs": [],
   "source": [
    "\n",
    "def filtre_premiers(a):\n",
    "    \"\"\"\n",
    "    :entrée/sortie a: tableau de int\n",
    "    :pré-cond: aₑ ne contient que des entiers positifs\n",
    "    :post-cond: remplace par -1 tous les éléments de a qui ne sont pas premiers\n",
    "    \"\"\"\n",
    "    i = 0\n",
    "    while i < len(a):\n",
    "        if not premier(a[i]):\n",
    "            a[i] = -1\n",
    "        i = i+1"
   ]
  },
  {
   "cell_type": "code",
   "execution_count": 4,
   "metadata": {},
   "outputs": [],
   "source": [
    "def fact(n):  # écriture itérative\n",
    "    \"\"\"\n",
    "    :entrée n: int\n",
    "    :pré-cond: n > 0\n",
    "    :sortie f: int\n",
    "    :post-cond: f = n!\n",
    "    \"\"\"\n",
    "    f = 1\n",
    "    i = 2\n",
    "    while i <=n:\n",
    "        f = f*i\n",
    "        i = i+1\n",
    "    return f\n",
    "\n",
    "def fact(n):  # écriture récurive\n",
    "    \"\"\"\n",
    "    :entrée n: int\n",
    "    :pré-cond: n > 0\n",
    "    :sortie f: int\n",
    "    :post-cond: f = n!\n",
    "    \"\"\"\n",
    "    if n == 0:\n",
    "        return 1\n",
    "    else:\n",
    "        return n * fact(n-1)\n"
   ]
  },
  {
   "cell_type": "code",
   "execution_count": 5,
   "metadata": {},
   "outputs": [],
   "source": [
    "def puissance(x, n):  # écriture récursive\n",
    "    \"\"\"\n",
    "    :entrée x: float\n",
    "    :entrée n: int\n",
    "    :pré-cond: n ≥ 0\n",
    "    :sortie p: float\n",
    "    :post-cond: p = xⁿ\n",
    "    \"\"\""
   ]
  }
 ],
 "metadata": {
  "kernelspec": {
   "display_name": "Python 3",
   "language": "python",
   "name": "python3"
  },
  "language_info": {
   "codemirror_mode": {
    "name": "ipython",
    "version": 3
   },
   "file_extension": ".py",
   "mimetype": "text/x-python",
   "name": "python",
   "nbconvert_exporter": "python",
   "pygments_lexer": "ipython3",
   "version": "3.6.7"
  }
 },
 "nbformat": 4,
 "nbformat_minor": 2
}
