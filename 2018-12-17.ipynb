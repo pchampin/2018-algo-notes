{
 "cells": [
  {
   "cell_type": "markdown",
   "metadata": {},
   "source": [
    "# Tri par insertion"
   ]
  },
  {
   "cell_type": "code",
   "execution_count": 1,
   "metadata": {},
   "outputs": [
    {
     "name": "stdout",
     "output_type": "stream",
     "text": [
      "[1, 2, 3, 4, 5, 6]\n"
     ]
    }
   ],
   "source": [
    "def insere_gauche(a, i):\n",
    "    \"\"\"\n",
    "    :entrée/sortie a: tableau de float\n",
    "    :entrée i: int\n",
    "    :pré-cond: 0 ≤ i < len(a)\n",
    "               a est trié entre les indices 0 et i-1 inclus\n",
    "    :post-cond: a est trié entre les indices 0 et i\n",
    "                les cases d'indice > i n'ont pas été modifiées\n",
    "    \"\"\"\n",
    "    while i > 0 and a[i-1] > a[i]:\n",
    "        tmp = a[i]\n",
    "        a[i] = a[i-1]\n",
    "        a[i-1] = tmp\n",
    "        i = i-1\n",
    "        \n",
    "        \n",
    "def tri_insertion(a):\n",
    "    \"\"\"\n",
    "    :entrée/sortie a: tableau de float\n",
    "    :post-cond: les valeurs de a sont dans l'ordre croissant\n",
    "    \"\"\"\n",
    "    i = 1\n",
    "    while i != len(a):\n",
    "        insere_gauche(a, i)\n",
    "        i = i+1\n",
    "        \n",
    "        \n",
    "a = [1,2,3,4,5,6]\n",
    "tri_insertion(a)\n",
    "print(a)"
   ]
  },
  {
   "cell_type": "markdown",
   "metadata": {},
   "source": [
    "Complexité\n",
    "\n",
    "* dans le pire des cas (tableau en ordre décroissant): 𝓞(len(a)²) \n",
    "* dans le meilleur des cas (tableau déjà trié): 𝓞(len(a)) \n",
    "\n",
    "# Tri binaire (ou tri rapide)"
   ]
  },
  {
   "cell_type": "code",
   "execution_count": 2,
   "metadata": {},
   "outputs": [
    {
     "name": "stdout",
     "output_type": "stream",
     "text": [
      "[0, 1, 2, 3, 5]\n"
     ]
    }
   ],
   "source": [
    "def partitionne(a, idébut, ifin):\n",
    "    \"\"\"\n",
    "    :entrée/sortie a: tableau de float\n",
    "    :entrée idébut, ifin: int\n",
    "    :pré-cond: 0 ≤ idébut < ifin ≤ len(a)\n",
    "    :sortie ip: indice du pivot\n",
    "    :post-cond: les valeurs de a sont ré-ordonnées de sorte que\n",
    "                toutes les valeurs à gauche de ip sont <= a[ip]\n",
    "                toutes les valeurs à droite de ip sont >  a[ip]\n",
    "    \"\"\"\n",
    "    pivot = a[idébut]\n",
    "    i = idébut+1\n",
    "    j = ifin-1\n",
    "    while i <= j:\n",
    "        if a[i] <= pivot:\n",
    "            i = i+1\n",
    "        else:\n",
    "            if a[j] > pivot:\n",
    "                j = j-1\n",
    "            else:\n",
    "                a[i],a[j] = a[j],a[i]\n",
    "                i = i+1\n",
    "                j = j-1\n",
    "    ip = j\n",
    "    a[ip],a[idébut] = a[idébut],a[ip]\n",
    "    return ip\n",
    "    \n",
    "def tri_binaire(a):\n",
    "    \"\"\"\n",
    "    :entrée/sortie a: tableau de float\n",
    "    :post-cond: a est trié\n",
    "    \"\"\"\n",
    "    tri_binaire_rec(a, 0, len(a))\n",
    "\n",
    "def tri_binaire_rec(a, idébut, ifin):\n",
    "    \"\"\"\n",
    "    :entrée/sortie a: tableau de float\n",
    "    :entrée idébut, ifin: int\n",
    "    :pré-cond: 0 ≤ idébut ≤ ifin ≤ len(a)\n",
    "    :post-cond: a est trié entre idébut (inclus) et ifin (exclus)\n",
    "    \"\"\"\n",
    "    if ifin-idébut <= 1:\n",
    "        pass\n",
    "    else:\n",
    "        ip = partitionne(a, idébut, ifin)\n",
    "        tri_binaire_rec(a, idébut, ip)\n",
    "        tri_binaire_rec(a, ip+1, ifin)\n",
    "\n",
    "a = [3,2,1,0,5]\n",
    "tri_binaire(a)\n",
    "print(a)\n"
   ]
  }
 ],
 "metadata": {
  "kernelspec": {
   "display_name": "Python 3",
   "language": "python",
   "name": "python3"
  },
  "language_info": {
   "codemirror_mode": {
    "name": "ipython",
    "version": 3
   },
   "file_extension": ".py",
   "mimetype": "text/x-python",
   "name": "python",
   "nbconvert_exporter": "python",
   "pygments_lexer": "ipython3",
   "version": "3.6.7"
  }
 },
 "nbformat": 4,
 "nbformat_minor": 2
}
