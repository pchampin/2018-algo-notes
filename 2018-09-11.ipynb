{
 "cells": [
  {
   "cell_type": "code",
   "execution_count": 1,
   "metadata": {
    "scrolled": true
   },
   "outputs": [
    {
     "name": "stdout",
     "output_type": "stream",
     "text": [
      "Quel est votre nom ? Alice\n",
      "Bonjour, Alice\n"
     ]
    }
   ],
   "source": [
    "nom = input(\"Quel est votre nom ? \")\n",
    "msg = \"Bonjour, \" + nom\n",
    "print(msg)"
   ]
  },
  {
   "cell_type": "markdown",
   "metadata": {},
   "source": [
    "Flux d'information\n",
    "\n",
    "* récupérer de l'information : `input([message])`\n",
    "* renvoyer de l'information à l'utilisateur : `print(information)`\n",
    "    \n",
    "Un programme peut manipuler différentes sortes / catégories / *types* d'information.\n",
    "\n",
    "* texte / chaîne de caractères / string / `str`\n",
    "* nombres entiers / integers / `int`\n",
    "* nombres à virgule / flottants / float / `float`\n",
    "\n",
    "Pour récupérer\n",
    "\n",
    "* un entier, on taperas `int(input())`\n",
    "* un flottant, on taperas `float(input())`\n",
    "\n",
    "NB: `print` accepte n'importe quel type.\n",
    "\n",
    "Une variable est un emplacement dans la mémoire de l'ordinateur, auquel on donne un nom, et qui contient une valeur. Cette valeur peut *varier* au cours du temps.\n",
    "\n",
    "Calculs possibles selon le type d'information :\n",
    "\n",
    "* chaînes : + (concaténation)\n",
    "* flottants : + - * /\n",
    "* entiers : + - * / // %\n"
   ]
  }
 ],
 "metadata": {
  "kernelspec": {
   "display_name": "Python 3",
   "language": "python",
   "name": "python3"
  },
  "language_info": {
   "codemirror_mode": {
    "name": "ipython",
    "version": 3
   },
   "file_extension": ".py",
   "mimetype": "text/x-python",
   "name": "python",
   "nbconvert_exporter": "python",
   "pygments_lexer": "ipython3",
   "version": "3.6.5"
  }
 },
 "nbformat": 4,
 "nbformat_minor": 2
}
