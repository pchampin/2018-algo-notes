{
 "cells": [
  {
   "cell_type": "code",
   "execution_count": 1,
   "metadata": {},
   "outputs": [],
   "source": [
    "def puissance(x, n):  # écriture récursive\n",
    "    \"\"\"\n",
    "    :entrée x: float\n",
    "    :entrée n: int\n",
    "    :pré-cond: n ≥ 0\n",
    "    :sortie p: float\n",
    "    :post-cond: p = xⁿ\n",
    "    \"\"\"\n",
    "    if n == 0:\n",
    "        return 1\n",
    "    else:\n",
    "        return x*puissance(x, n-1)\n"
   ]
  },
  {
   "cell_type": "code",
   "execution_count": 2,
   "metadata": {},
   "outputs": [],
   "source": [
    "def nb_chiffres(n): # écriture récursive\n",
    "    \"\"\"\n",
    "    :entrée n: int\n",
    "    :pré-cond: n ≥ 0\n",
    "    :sortie c: int\n",
    "    :post-cond: c est le nombre de chiffres qui composent\n",
    "                l'écriture de n en base 10\n",
    "    \"\"\"\n",
    "    if n < 10:\n",
    "        return 1\n",
    "    else:\n",
    "        return nb_chiffres(n//10) + 1"
   ]
  },
  {
   "cell_type": "code",
   "execution_count": 3,
   "metadata": {},
   "outputs": [],
   "source": [
    "def somme_chiffres(n): # écriture récursive\n",
    "    \"\"\"\n",
    "    :entrée n: int\n",
    "    :pré-cond: n ≥ 0\n",
    "    :sortie s: int\n",
    "    :post-cond: s est la somme de chiffres qui composent\n",
    "                l'écriture de n en base 10\n",
    "    \"\"\"\n",
    "    if n < 10:\n",
    "        return n\n",
    "    else:\n",
    "        return somme_chiffres(n//10) + (n%10)"
   ]
  },
  {
   "cell_type": "code",
   "execution_count": 4,
   "metadata": {},
   "outputs": [],
   "source": [
    "def max_chiffres(n): # écriture récursive\n",
    "    \"\"\"\n",
    "    :entrée n: int\n",
    "    :pré-cond: n ≥ 0\n",
    "    :sortie m: int\n",
    "    :post-cond: m est le plus grand de chiffres qui composent\n",
    "                l'écriture de n en base 10\n",
    "    \"\"\"\n",
    "    if n < 10:\n",
    "        return n\n",
    "    else:\n",
    "        c1 = n%10\n",
    "        c2 = max_chiffres(n//10)\n",
    "        if c1<c2:\n",
    "            return c2\n",
    "        else:\n",
    "            return c1\n",
    "\n",
    "# ⚠ on stocke dans c2 le résultat de max_chiffres pour ne pas avoir à l'appeler deux fois,\n",
    "# ce qui ferait répéter exactement les mêmes calculs"
   ]
  },
  {
   "cell_type": "markdown",
   "metadata": {},
   "source": [
    "Dans les cas des chaînes et des tableaux,\n",
    "on peut en général distinguer :\n",
    "\n",
    "* le cas simple ou la chaîne / le tableau est vide (`len(x) == 0`),\n",
    "* le cas complexe ou la chaîne / le tableau a au moins un élément.\n",
    "\n",
    "Dans le second cas, on va souhaite séparer le premier élément (`x[0]`),\n",
    "du *reste* des élément.\n",
    "\n",
    "Pour cela on utilise la notation `x[1:]` qui,\n",
    "si `x` est une chaîne / un tableau de longueur non nulle,\n",
    "donne une chaîne / un tableau constitué de tous les éléments de `x` sauf le premier.\n",
    "\n",
    "NB: `len(x[1:])` est donc égale à `len(x) - 1`, et peut donc être nulle."
   ]
  },
  {
   "cell_type": "code",
   "execution_count": 5,
   "metadata": {},
   "outputs": [],
   "source": [
    "def compte_e(txt):\n",
    "    \"\"\"\n",
    "    :entrée txt: str\n",
    "    :sortie ne: int\n",
    "    :post-cond: ne est le nomre d'occurences du caractère 'e' dans txt\n",
    "    \"\"\"\n",
    "    if len(txt) == 0:\n",
    "        return 0\n",
    "    else:\n",
    "        ne = compte_e(txt[1:])\n",
    "        if txt[0] == 'e':\n",
    "            ne = ne+1\n",
    "        return ne"
   ]
  },
  {
   "cell_type": "code",
   "execution_count": 6,
   "metadata": {},
   "outputs": [],
   "source": [
    "def indice_c(txt, c):\n",
    "    \"\"\"\n",
    "    :entrée txt, c: str\n",
    "    :pré-cond: len(c) = 1\n",
    "    :sortie ic: int\n",
    "    :post-cond: si txt contient c, ic est tel que txt[ic] = c,\n",
    "                sinon ic = -1\n",
    "    \"\"\"\n",
    "    if len(txt) == 0:\n",
    "        return -1\n",
    "    else:\n",
    "        if txt[0] == c:\n",
    "            return 0\n",
    "        else:\n",
    "            ic = indice_c(txt[1:], c)\n",
    "            if ic > -1:\n",
    "                ic = ic+1 # pour prendre en compte le premier caractère,\n",
    "                          # qu'on n'a pas passé à l'appel récursif\n",
    "            return ic"
   ]
  }
 ],
 "metadata": {
  "kernelspec": {
   "display_name": "Python 3",
   "language": "python",
   "name": "python3"
  },
  "language_info": {
   "codemirror_mode": {
    "name": "ipython",
    "version": 3
   },
   "file_extension": ".py",
   "mimetype": "text/x-python",
   "name": "python",
   "nbconvert_exporter": "python",
   "pygments_lexer": "ipython3",
   "version": "3.6.7"
  }
 },
 "nbformat": 4,
 "nbformat_minor": 2
}
