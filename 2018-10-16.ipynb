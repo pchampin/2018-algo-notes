{
 "cells": [
  {
   "cell_type": "markdown",
   "metadata": {},
   "source": [
    "# Fonctions\n",
    "\n",
    "## Contrats des fonctions que vous utilisez déjà"
   ]
  },
  {
   "cell_type": "code",
   "execution_count": 1,
   "metadata": {},
   "outputs": [],
   "source": [
    "\"\"\"\n",
    "Contrat de print()\n",
    ":entrée x: n'importe quel type\n",
    ":pré-cond: ø\n",
    ":sortie y: str (à l'écran)\n",
    ":post-cond: y est une représentation de x\n",
    "\n",
    "Exemple:\n",
    "print(42)  \"42\"\n",
    "\"\"\"\n",
    "\n",
    "\"\"\"\n",
    "Contrat de input()\n",
    "\n",
    ":entrée txt: str (au clavier)\n",
    ":pré-cond: ø\n",
    ":sortie txt2: str\n",
    ":post-cond: txt2 = txt\n",
    "\"\"\"\n",
    "\n",
    "\"\"\"\n",
    "Contrat de int()\n",
    "\n",
    ":entrée txt: str\n",
    ":pré-cond: txt ne contient que des chiffres en base 10\n",
    ":sortie val: int\n",
    ":post-cond: val est l'entier représenté par txt en base 10\n",
    "\"\"\"\n",
    "\n",
    "# idem pour float(), bool()\n",
    "\n",
    "\"\"\"\n",
    "Contrat de str()\n",
    "\n",
    ":entrée val: n'importe quel type\n",
    ":pré-cond: ø\n",
    ":sortie val: txt\n",
    ":post-cond: txt est une représentation de val\n",
    "\"\"\"\n",
    "\n",
    "None"
   ]
  },
  {
   "cell_type": "markdown",
   "metadata": {},
   "source": [
    "## Passage de paramètre\n",
    "\n",
    "N'importe quelle expression (calcul) dont le résultat satisfait les pré-condition peut être passé en paramètre (entre les parenthèses)."
   ]
  },
  {
   "cell_type": "code",
   "execution_count": 2,
   "metadata": {},
   "outputs": [
    {
     "name": "stdout",
     "output_type": "stream",
     "text": [
      "2\n"
     ]
    }
   ],
   "source": [
    "n = int(\"42\")           # n vaut 42\n",
    "n = int(\"4\" + \"2\")      # n vaut 42\n",
    "n = int(\"4\" + input())  # n dépend de ce que tapes l'utilisateur"
   ]
  },
  {
   "cell_type": "markdown",
   "metadata": {},
   "source": [
    "## Utilisation d'une fonction\n",
    "\n",
    "Connaître le contrat d'une fonction suffit pour l'utiliser. *On n'a pas besoin* de connaître son code. En d'autre terme, il suffit de savoir *ce que fait* la fonction, pas *comment* elle le fait.\n",
    "\n",
    "Exemple : supposons donnée la fonction ci-dessous."
   ]
  },
  {
   "cell_type": "code",
   "execution_count": 3,
   "metadata": {},
   "outputs": [],
   "source": [
    "def voyelles(txt):\n",
    "  \"\"\"\n",
    "  :entrée txt: str\n",
    "  :pré-cond: ø\n",
    "  :sortie nb_voyelles: int\n",
    "  :post-cond: nb_voyelles est le nombre de caractères de txt\n",
    "              qui sont des voyelles\n",
    "  \"\"\"\n",
    "  # [on suppose que le code est fourni par quelqu'un d'autre]"
   ]
  },
  {
   "cell_type": "markdown",
   "metadata": {},
   "source": [
    "On peut en déduire les choses suivantes (sans même connaître le code) :"
   ]
  },
  {
   "cell_type": "code",
   "execution_count": 4,
   "metadata": {},
   "outputs": [
    {
     "name": "stdout",
     "output_type": "stream",
     "text": [
      "titi\n"
     ]
    }
   ],
   "source": [
    "n = voyelles(\"hello\")   # n vaut 2\n",
    "n = voyelles(\"zrtpqs\")  # n vaut 0\n",
    "n = voyelles(\"\")        # n vaut 0\n",
    "n = voyelles(\"toto\")    # n vaut 2\n",
    "n = voyelles(\"ta\"+\"ta\") # n vaut 2\n",
    "n = voyelles(input())   # n vaut ?\n",
    "n = voyelles(42)        # ENTRÉE non conforme\n",
    "n = voyelles(0xAB)      # ENTRÉE non conforme\n",
    "n = voyelles(str(42))   # n vaut 0\n",
    "n = voyelles(str(0xAB)) # n vaut 0 (str(0xAB) → \"171\")"
   ]
  },
  {
   "cell_type": "markdown",
   "metadata": {},
   "source": [
    "# Fonctions disponibles sur les chaînes de caractère"
   ]
  },
  {
   "cell_type": "code",
   "execution_count": 5,
   "metadata": {},
   "outputs": [],
   "source": [
    "# fonction len\n",
    "\"\"\"\n",
    ":entrée txt: str\n",
    ":pré-cond: ø\n",
    ":sortie longueur: int\n",
    ":post-cond: longueur est le nombre de caractères contenus dans txt\n",
    "\"\"\"\n",
    "\n",
    "# fonction get_char\n",
    "\"\"\"\n",
    ":entrée txt: str\n",
    ":entrée i: int\n",
    ":pré-cond: 0 ≤ i < len(txt)\n",
    ":sortie char: str\n",
    ":post-cond: char a pour longueur 1,\n",
    "            et contient le caractère de rang i de txt\n",
    "\"\"\"\n",
    "\n",
    "None"
   ]
  },
  {
   "cell_type": "markdown",
   "metadata": {},
   "source": [
    "Avec ces fonctions, nous pouvons écrire nous même la fonction `voyelles` ci-dessus. Pour cela, nous proposons une fonction intermédiaire `est_une_voyelle` dont le contrat est donné ci-dessous."
   ]
  },
  {
   "cell_type": "code",
   "execution_count": 6,
   "metadata": {},
   "outputs": [
    {
     "name": "stdout",
     "output_type": "stream",
     "text": [
      "6\n",
      "2\n",
      "0\n",
      "0\n"
     ]
    }
   ],
   "source": [
    "def voyelles(txt):\n",
    "    \"\"\" cf. contrat ci-dessus\"\"\"\n",
    "    nb_voyelles = 0\n",
    "    i = 0\n",
    "    while i < len(txt):\n",
    "        if est_une_voyelle(get_char(txt, i)):\n",
    "            nb_voyelles = nb_voyelles+1\n",
    "        i = i+1\n",
    "    return nb_voyelles\n",
    "\n",
    "def est_une_voyelle(char):\n",
    "    \"\"\"\n",
    "    :entrée char: str\n",
    "    :pré-cond: len(char) = 1\n",
    "    :sortie voy: bool\n",
    "    :post-cond: voy vaut True ssi char contient une voyelle\n",
    "    \"\"\"\n",
    "    voy = (char=='a' or char=='e' or char=='i' or\n",
    "           char=='o' or char=='u' or char=='y' or\n",
    "           char=='A' or char=='E' or char=='I' or\n",
    "           char=='O' or char=='U' or char=='Y')\n",
    "    return voy\n",
    "\n",
    "def get_char(txt, i):\n",
    "    \"\"\"N'existe pas en Python, donc doit être définie\"\"\"\n",
    "    return txt[i]\n",
    "\n",
    "\n",
    "print(voyelles(\"Bonjour Alice\"))  # affiche 6\n",
    "print(voyelles(\"toto\"))           # affiche 2\n",
    "print(voyelles(\"x1, z2!\"))        # affiche 0\n",
    "print(voyelles(\"\"))               # affiche 0"
   ]
  }
 ],
 "metadata": {
  "kernelspec": {
   "display_name": "Python 3",
   "language": "python",
   "name": "python3"
  },
  "language_info": {
   "codemirror_mode": {
    "name": "ipython",
    "version": 3
   },
   "file_extension": ".py",
   "mimetype": "text/x-python",
   "name": "python",
   "nbconvert_exporter": "python",
   "pygments_lexer": "ipython3",
   "version": "3.6.6"
  }
 },
 "nbformat": 4,
 "nbformat_minor": 2
}
