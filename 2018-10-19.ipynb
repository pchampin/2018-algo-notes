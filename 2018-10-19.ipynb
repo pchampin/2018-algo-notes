{
 "cells": [
  {
   "cell_type": "markdown",
   "metadata": {},
   "source": [
    "Au lieu de la fonction `get_char(txt,i)` introduite à la séance précédente, on peut utiliser la notation `txt[i]`, qui est plus compacte et existe dans la plupart des langages.\n",
    "\n",
    "À noter que cette notation a les mêmes caractéristiques que la fonction `get_char`:\n",
    "\n",
    "* `i` doit être compris entre 0 (inclus) et `len(txt)` (exclus),\n",
    "* l'expression entre les crochet n'est pas forcée d'être un variable,\n",
    "  on peut par exemple écrire `txt[2*i+1]` tant que le résultat vérifie la condtion ci-dessus."
   ]
  },
  {
   "cell_type": "code",
   "execution_count": 1,
   "metadata": {},
   "outputs": [
    {
     "name": "stdout",
     "output_type": "stream",
     "text": [
      "6\n",
      "2\n",
      "0\n",
      "0\n"
     ]
    }
   ],
   "source": [
    "# Ré-écriture de la fonction `voyelles` en utilisant la notation txt[i]\n",
    "\n",
    "def voyelles(txt):\n",
    "    \"\"\"\n",
    "    :entrée txt: str\n",
    "    :pré-cond: ø\n",
    "    :sortie nb_voyelles: int\n",
    "    :post-cond: nb_voyelles est le nombre de caractères de txt\n",
    "                qui sont des voyelles\n",
    "    \"\"\"\n",
    "    nb_voyelles = 0\n",
    "    i = 0\n",
    "    while i < len(txt):\n",
    "        if est_une_voyelle(txt[i]):\n",
    "            nb_voyelles = nb_voyelles+1\n",
    "        i = i+1\n",
    "    return nb_voyelles\n",
    "\n",
    "def est_une_voyelle(char):\n",
    "    \"\"\"\n",
    "    :entrée char: str\n",
    "    :pré-cond: len(char) = 1\n",
    "    :sortie voy: bool\n",
    "    :post-cond: voy vaut True ssi char contient une voyelle\n",
    "    \"\"\"\n",
    "    voy = (char=='a' or char=='e' or char=='i' or\n",
    "           char=='o' or char=='u' or char=='y' or\n",
    "           char=='A' or char=='E' or char=='I' or\n",
    "           char=='O' or char=='U' or char=='Y')\n",
    "    return voy\n",
    "\n",
    "print(voyelles(\"Bonjour Alice\"))  # affiche 6\n",
    "print(voyelles(\"toto\"))           # affiche 2\n",
    "print(voyelles(\"x1, z2!\"))        # affiche 0\n",
    "print(voyelles(\"\"))               # affiche 0"
   ]
  },
  {
   "cell_type": "code",
   "execution_count": 2,
   "metadata": {},
   "outputs": [
    {
     "data": {
      "text/plain": [
       "False"
      ]
     },
     "execution_count": 2,
     "metadata": {},
     "output_type": "execute_result"
    }
   ],
   "source": [
    "def commence_par(txt1, txt2):\n",
    "    \"\"\"\n",
    "    :entrée txt1: str\n",
    "    :entrée txt2: str\n",
    "    :sortie c: bool\n",
    "    :post-cond: c est True si et seulement si\n",
    "                txt1 commence par txt2, c’est à dire\n",
    "                pour tout i tel que 0 ≤ i < len(txt2) , txt1[i] == txt2[i] .\n",
    "    \"\"\"\n",
    "    if len(txt1) < len(txt2):\n",
    "        return False\n",
    "    \n",
    "    c = True\n",
    "    i = 0\n",
    "    while i < len(txt2):\n",
    "        if txt1[i] != txt2[i]:\n",
    "            c = False\n",
    "        i = i+1\n",
    "    return c\n",
    "\n",
    "# Cette version fonctionne, mais mets longtemps à répondre,\n",
    "# même dans le cas où on se rend compte tôt que la répons est False.\n",
    "# Exemple\n",
    "\n",
    "commence_par(\"abcdefg\", \"aXcd\")"
   ]
  },
  {
   "cell_type": "code",
   "execution_count": 3,
   "metadata": {},
   "outputs": [],
   "source": [
    "def commence_par(txt1, txt2):\n",
    "    if len(txt1) < len(txt2):\n",
    "        return False\n",
    "    \n",
    "    c = True\n",
    "    i = 0\n",
    "    while i < len(txt2) and c:\n",
    "        if txt1[i] != txt2[i]:\n",
    "            c = False\n",
    "        i = i+1\n",
    "    return c\n",
    "\n",
    "# Cette version est une amélioration de la précédente.\n",
    "# En ajoutant 'c' dans la condition du while,\n",
    "# on sort de la boucle dès qu'on sait que la réponse est False."
   ]
  },
  {
   "cell_type": "code",
   "execution_count": 4,
   "metadata": {},
   "outputs": [],
   "source": [
    "def commence_par(txt1, txt2):\n",
    "    if len(txt1) < len(txt2):\n",
    "        return False\n",
    "\n",
    "    i = 0\n",
    "    while i < len(txt2):\n",
    "        if txt1[i] != txt2[i]:\n",
    "            return False\n",
    "        i = i+1\n",
    "    return True\n",
    "\n",
    "# Cette version est une alternative à la précédente.\n",
    "# On utilise le fait que 'return' sort immédiatement de la fonction.\n",
    "# Attention cependant: cette méthode peut nuire à la lisibilité du code,\n",
    "# lorsque le 'return' est \"enfoui\" dans une boucle un peu compliquée..."
   ]
  }
 ],
 "metadata": {
  "kernelspec": {
   "display_name": "Python 3",
   "language": "python",
   "name": "python3"
  },
  "language_info": {
   "codemirror_mode": {
    "name": "ipython",
    "version": 3
   },
   "file_extension": ".py",
   "mimetype": "text/x-python",
   "name": "python",
   "nbconvert_exporter": "python",
   "pygments_lexer": "ipython3",
   "version": "3.6.6"
  }
 },
 "nbformat": 4,
 "nbformat_minor": 2
}
