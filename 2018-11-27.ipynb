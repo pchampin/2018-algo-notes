{
 "cells": [
  {
   "cell_type": "code",
   "execution_count": 1,
   "metadata": {},
   "outputs": [],
   "source": [
    "from numpy import *"
   ]
  },
  {
   "cell_type": "code",
   "execution_count": 2,
   "metadata": {},
   "outputs": [
    {
     "name": "stdout",
     "output_type": "stream",
     "text": [
      "[ 0  1  4  9 16 25 36 49 64 81]\n"
     ]
    }
   ],
   "source": [
    "def carrés(n):\n",
    "    \"\"\"\n",
    "    :entrée n: int\n",
    "    :pré-cond: n > 0\n",
    "    :sortie a: tableau de int\n",
    "    :post-cond: a contient les  n premiers carrés parfaits (en commençant par 0),\n",
    "                c’est à dire :\n",
    "                len(a) = n; ∀i ∈ [0; len(a)[, a[i] = i²\n",
    "    \"\"\"\n",
    "    a = empty(n, int)\n",
    "    i = 0\n",
    "    while i < len(a):\n",
    "        a[i] = i*i\n",
    "        i = i+1\n",
    "    return a\n",
    "    \n",
    "print( carrés(10) )"
   ]
  },
  {
   "cell_type": "code",
   "execution_count": 3,
   "metadata": {},
   "outputs": [
    {
     "name": "stdout",
     "output_type": "stream",
     "text": [
      "[13.  8.  5.  3.  2.  1.  1.]\n"
     ]
    }
   ],
   "source": [
    "def inverse(a):\n",
    "    \"\"\"\n",
    "    :entrée a: tableau de float\n",
    "    :pré-cond: ∅\n",
    "    :sortie ai: tableau de float\n",
    "    :post-cond: ai contient les mêmes éléments que a, en ordre inverse,\n",
    "                c’est à dire\n",
    "                len(ai) = len(a); ∀i ∈ [0; len(a)[, ai[i] = a[len(a)-1-i]\n",
    "    \"\"\"\n",
    "    ai = empty(len(a), float)\n",
    "    i = 0\n",
    "    while i < len(ai):\n",
    "        ai[i] = a[len(a)-1-i]\n",
    "        i = i+1\n",
    "    return ai\n",
    "\n",
    "def inverse(a):\n",
    "    \"\"\"\n",
    "    :entrée a: tableau de float\n",
    "    :pré-cond: ∅\n",
    "    :sortie ai: tableau de float\n",
    "    :post-cond: ai contient les mêmes éléments que a, en ordre inverse,\n",
    "                c’est à dire\n",
    "                len(ai) = len(a); ∀i ∈ [0; len(a)[, ai[i] = a[len(a)-1-i]\n",
    "    \"\"\"\n",
    "    ai = empty(len(a), float)\n",
    "    i = 0\n",
    "    j = len(a)-1\n",
    "    while i < len(ai):\n",
    "        ai[i] = a[j]\n",
    "        i = i+1\n",
    "        j = j-1\n",
    "    return ai\n",
    "    \n",
    "test = array([1.0, 1.0, 2.0, 3.0, 5.0, 8.0, 13.0])\n",
    "print( inverse(test) )\n"
   ]
  },
  {
   "cell_type": "code",
   "execution_count": 4,
   "metadata": {},
   "outputs": [
    {
     "name": "stdout",
     "output_type": "stream",
     "text": [
      "[1. 3. 2. 4.]\n",
      "[1. 3. 5. 2. 4. 6.]\n"
     ]
    }
   ],
   "source": [
    "def filtre(a, v):\n",
    "    \"\"\"\n",
    "    :entrée a: tableau de float\n",
    "    :entrée v: float\n",
    "    :pré-cond: ∅\n",
    "    :sortie af: tableau de float\n",
    "    :post-cond: af contient tous les éléments de a inférieurs ou égaux à v,\n",
    "                et uniquement eux, dans le même ordre que dans a\n",
    "                (on a donc filtré tous les éléments supérieurs à v)\n",
    "    \"\"\"\n",
    "    \n",
    "    taille_af = 0\n",
    "    i = 0\n",
    "    while i < len(a):\n",
    "        if a[i] <= v:\n",
    "            taille_af = taille_af+1\n",
    "        i = i+1\n",
    "    af = empty(taille_af, float)\n",
    "    j = 0 # indice du tableau af\n",
    "    i = 0 # indice du tableau a\n",
    "    while i < len(a):\n",
    "        if a[i] <= v:\n",
    "            af[j] = a[i]\n",
    "            j = j+1\n",
    "        i = i+1\n",
    "    return af\n",
    "        \n",
    "        \n",
    "test = array([1.0, 3.0, 5.0, 2.0, 4.0, 6.0])\n",
    "print( filtre(test, 4.0) )\n",
    "print(test)"
   ]
  },
  {
   "cell_type": "code",
   "execution_count": 5,
   "metadata": {
    "scrolled": true
   },
   "outputs": [
    {
     "name": "stdout",
     "output_type": "stream",
     "text": [
      "[13.  8.  5.  3.  2.  1.  1.]\n"
     ]
    }
   ],
   "source": [
    "def inverse_en_place(a):\n",
    "    \"\"\"\n",
    "    :entrée/sortie a: tableau de float\n",
    "    :pré-cond: ∅\n",
    "    :post-cond: aₛ contient les mêmes éléments que aₑ, en ordre inverse,\n",
    "                c’est à dire\n",
    "                ∀i ∈ [0; len(aₑ)[, aₛ[i] = aₑ[len(aₑ)-1-i]\n",
    "    \"\"\"\n",
    "    i = 0\n",
    "    j = len(a)-1\n",
    "    while i < j:\n",
    "        tmp = a[i]\n",
    "        a[i] = a[j]\n",
    "        a[j]= tmp\n",
    "        i = i+1\n",
    "        j = j-1\n",
    "    \n",
    "test = array([1.0, 1.0, 2.0, 3.0, 5.0, 8.0, 13.0])\n",
    "inverse_en_place(test)\n",
    "print(test)"
   ]
  }
 ],
 "metadata": {
  "kernelspec": {
   "display_name": "Python 3",
   "language": "python",
   "name": "python3"
  },
  "language_info": {
   "codemirror_mode": {
    "name": "ipython",
    "version": 3
   },
   "file_extension": ".py",
   "mimetype": "text/x-python",
   "name": "python",
   "nbconvert_exporter": "python",
   "pygments_lexer": "ipython3",
   "version": "3.6.6"
  }
 },
 "nbformat": 4,
 "nbformat_minor": 2
}
